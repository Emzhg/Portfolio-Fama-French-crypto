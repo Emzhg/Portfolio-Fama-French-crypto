{
 "cells": [
  {
   "cell_type": "markdown",
   "id": "84de2709",
   "metadata": {},
   "source": [
    "### Import modules"
   ]
  },
  {
   "cell_type": "code",
   "execution_count": null,
   "id": "155af4ce",
   "metadata": {},
   "outputs": [],
   "source": [
    "import pandas as pd\n",
    "import datetime as dt\n",
    "import statsmodels.api as sm\n",
    "import yfinance as yf\n",
    "import statsmodels.api as sm\n",
    "from scipy.stats import f\n",
    "import plotly.express as px\n",
    "import seaborn as sns\n",
    "import numpy as np\n",
    "import copy\n",
    "import matplotlib.pyplot as plt\n",
    "from matplotlib.ticker import FuncFormatter, MaxNLocator\n",
    "\n",
    "from pypfopt.efficient_frontier import EfficientFrontier\n",
    "from pypfopt import risk_models\n",
    "from pypfopt import expected_returns\n",
    "from pypfopt import plotting\n",
    "\n",
    "#from zipline.api import order_percent, symbols\n",
    "#from zipline.finance import commission"
   ]
  },
  {
   "cell_type": "markdown",
   "id": "1b8b58ee",
   "metadata": {},
   "source": [
    "### Read F-F dataset"
   ]
  },
  {
   "cell_type": "code",
   "execution_count": null,
   "id": "dc7ad4e7",
   "metadata": {},
   "outputs": [],
   "source": [
    "factors = pd.read_csv(\"F-F_Research_Data_Factors_daily.CSV\", sep=\",\")\n",
    "factors[\"date\"] = pd.to_datetime(factors[\"date\"], format=\"%Y%m%d\")\n",
    "factors.set_index(\"date\", inplace=True)\n",
    "factors.replace([-99.99], 0, inplace = True)\n",
    "factors.replace([-999], 0, inplace = True)\n",
    "factors.dropna(inplace=True)\n",
    "#factors[\"Mkt\"] = factors[\"Mkt-RF\"]+ff3factor[\"RF\"]\n",
    "factors = factors/100 #Get %returns\n",
    "factors"
   ]
  },
  {
   "cell_type": "markdown",
   "id": "b31ad9ac",
   "metadata": {},
   "source": [
    "### Calculate from daily returns an index level (basis = 100)"
   ]
  },
  {
   "cell_type": "code",
   "execution_count": null,
   "id": "e31a10b9",
   "metadata": {},
   "outputs": [],
   "source": [
    "# Calculate the cumulative daily returns\n",
    "df_cum_daily_returns_ff = 100*(1 + factors).cumprod() # index level start = 100\n",
    "#df_cum_daily_returns = df_cum_daily_returns.reset_index()\n",
    "df_cum_daily_returns_ff"
   ]
  },
  {
   "cell_type": "markdown",
   "id": "1dbbbd07",
   "metadata": {},
   "source": [
    "### Plot F-F dataset Mkt daily excess return"
   ]
  },
  {
   "cell_type": "code",
   "execution_count": null,
   "id": "860af173",
   "metadata": {},
   "outputs": [],
   "source": [
    "fig = px.line(factors[\"Mkt-RF\"])\n",
    "fig.show()"
   ]
  },
  {
   "cell_type": "markdown",
   "id": "2069c096",
   "metadata": {},
   "source": [
    "### Plot Market excess returns index"
   ]
  },
  {
   "cell_type": "code",
   "execution_count": null,
   "id": "41687804",
   "metadata": {},
   "outputs": [],
   "source": [
    "index_Mkt_ret = df_cum_daily_returns_ff[\"Mkt-RF\"]\n",
    "fig = px.line(index_Mkt_ret)\n",
    "fig.show()"
   ]
  },
  {
   "cell_type": "markdown",
   "id": "9f4640ef",
   "metadata": {},
   "source": [
    "### Rebase on monthly returns: product of (1+daily return) in slice of months"
   ]
  },
  {
   "cell_type": "code",
   "execution_count": null,
   "id": "bce19990",
   "metadata": {},
   "outputs": [],
   "source": [
    "factors.index = pd.to_datetime(factors.index)\n",
    "df_monthly_ff = factors.resample('M').agg(lambda x: (x + 1).prod() - 1)\n",
    "df_monthly_ff"
   ]
  },
  {
   "cell_type": "code",
   "execution_count": null,
   "id": "7a6e3681",
   "metadata": {
    "scrolled": false
   },
   "outputs": [],
   "source": [
    "df_monthly_ff.describe()"
   ]
  },
  {
   "cell_type": "markdown",
   "id": "b000a3ed",
   "metadata": {},
   "source": [
    "### Plot F-F monthly Mkt excess returns and factors"
   ]
  },
  {
   "cell_type": "code",
   "execution_count": null,
   "id": "232dc59b",
   "metadata": {
    "scrolled": false
   },
   "outputs": [],
   "source": [
    "fig = px.line(df_monthly_ff)\n",
    "fig.show()"
   ]
  },
  {
   "cell_type": "markdown",
   "id": "7ff95de4",
   "metadata": {},
   "source": [
    "### Read F-F 49 industries dataset"
   ]
  },
  {
   "cell_type": "code",
   "execution_count": null,
   "id": "6d236218",
   "metadata": {},
   "outputs": [],
   "source": [
    "industries  = pd.read_csv(\"49_Industry_Portfolios_Daily.csv\", sep=\",\")\n",
    "industries [\"date\"] = pd.to_datetime(industries [\"date\"], format=\"%Y%m%d\")\n",
    "\n",
    "industries.set_index(\"date\", inplace=True)\n",
    "industries.replace([-99.99], 0, inplace = True)\n",
    "industries.replace([-999], 0, inplace = True)\n",
    "industries.dropna(inplace=True)\n",
    "industries = industries/100 # turns into percentage\n",
    "industries"
   ]
  },
  {
   "cell_type": "markdown",
   "id": "8e81404a",
   "metadata": {},
   "source": [
    "### Plot F-F 49 industries dataset daily returns"
   ]
  },
  {
   "cell_type": "code",
   "execution_count": null,
   "id": "a400e9d8",
   "metadata": {},
   "outputs": [],
   "source": [
    "fig = px.line(industries)\n",
    "fig.show()"
   ]
  },
  {
   "cell_type": "code",
   "execution_count": null,
   "id": "87bc12b1",
   "metadata": {},
   "outputs": [],
   "source": [
    "# August 1932 : Paper industry daily returns spiked\n",
    "industries.describe()"
   ]
  },
  {
   "cell_type": "markdown",
   "id": "2ed04b70",
   "metadata": {},
   "source": [
    "### Plot F-F 49 industries dataset returns index (basis = 100)"
   ]
  },
  {
   "cell_type": "code",
   "execution_count": null,
   "id": "45a3295f",
   "metadata": {},
   "outputs": [],
   "source": [
    "# Calculate the cumulative daily returns\n",
    "df_industries_daily_index = 100*(1 + industries).cumprod() # index level start = 100\n",
    "#df_cum_daily_returns = df_cum_daily_returns.reset_index()\n",
    "df_industries_daily_index"
   ]
  },
  {
   "cell_type": "markdown",
   "id": "79ed575f",
   "metadata": {},
   "source": [
    "### Plot F-F 49 industries daily returns index"
   ]
  },
  {
   "cell_type": "code",
   "execution_count": null,
   "id": "8ca07ad7",
   "metadata": {},
   "outputs": [],
   "source": [
    "index_df_cum_daily_returns = df_industries_daily_index\n",
    "fig = px.line(index_df_cum_daily_returns)\n",
    "fig.show()"
   ]
  },
  {
   "cell_type": "markdown",
   "id": "0c521c3b",
   "metadata": {},
   "source": [
    "### Resample F-F 49 industries monthly returns"
   ]
  },
  {
   "cell_type": "code",
   "execution_count": null,
   "id": "c8cd8307",
   "metadata": {},
   "outputs": [],
   "source": [
    "industries.index = pd.to_datetime(industries.index)\n",
    "df_industries_monthly_returns = industries.resample('1M').agg(lambda x: (x + 1).prod() - 1)\n",
    "df_industries_monthly_returns"
   ]
  },
  {
   "cell_type": "raw",
   "id": "b1fe8c28",
   "metadata": {},
   "source": [
    "# Monthly mean returns\n",
    "industriesmonthly = industries.resample('1M').mean()\n",
    "industriesmonthly.index = pd.to_datetime(industriesmonthly.index, format=\"%Y%m\").to_period('M')\n",
    "industriesmonthly"
   ]
  },
  {
   "cell_type": "code",
   "execution_count": null,
   "id": "0bab3f2b",
   "metadata": {},
   "outputs": [],
   "source": [
    "df_industries_monthly_returns.describe()"
   ]
  },
  {
   "cell_type": "markdown",
   "id": "e9cbcab6",
   "metadata": {},
   "source": [
    "### Plot F-F 49 industries monthly returns"
   ]
  },
  {
   "cell_type": "code",
   "execution_count": null,
   "id": "b23cc7b3",
   "metadata": {},
   "outputs": [],
   "source": [
    "fig = px.line(df_industries_monthly_returns)\n",
    "fig.show()"
   ]
  },
  {
   "cell_type": "markdown",
   "id": "28292b4f",
   "metadata": {},
   "source": [
    "### Thinking of a sector rotation strategy : Find best and worst performing 3 industries for each period"
   ]
  },
  {
   "cell_type": "code",
   "execution_count": null,
   "id": "b22cbc7d",
   "metadata": {},
   "outputs": [],
   "source": [
    "# Find best and worst performing 3 industries for each period\n",
    "\n",
    "maxdf = df_industries_monthly_returns.apply(lambda x: pd.Series(x.nlargest(3).index.values), axis=1) # best three\n",
    "maxdf.columns = ['Max1', 'Max2', 'Max3']\n",
    "mindf = df_industries_monthly_returns.apply(lambda x: pd.Series(x.nsmallest(3).index.values), axis=1) # worst three\n",
    "mindf.columns = ['Min1', 'Min2', 'Min3']\n",
    "\n",
    "#print(df_industries_monthly_returns)\n",
    "print(maxdf)\n",
    "print(mindf)"
   ]
  },
  {
   "cell_type": "markdown",
   "id": "941c5bb6",
   "metadata": {},
   "source": [
    "### Define functions for portfolio sector rotation strategy "
   ]
  },
  {
   "cell_type": "code",
   "execution_count": null,
   "id": "426b3170",
   "metadata": {},
   "outputs": [],
   "source": [
    "# We will long the best m stocks of the previous month \n",
    "# and rebalance on a monthly basis by removing the worst x stocks of the portfolio\n",
    "\n",
    "def pflio_long(DF,m,x):\n",
    "    \n",
    "    # Returns cumulative portfolio return\n",
    "    # DF = dataframe with monthly return info for all stocks\n",
    "    # m = number of stock in the portfolio\n",
    "    # x = number of underperforming stocks to be removed from portfolio monthly\"\"\"\n",
    "    \n",
    "    df = DF.copy()\n",
    "    portfolio = []\n",
    "    monthly_ret_long = [0]\n",
    "    for i in range(1,len(df)):\n",
    "        if len(portfolio) > 0:\n",
    "            monthly_ret_long.append(df[portfolio].iloc[i,:].mean())\n",
    "            bad_stocks = df[portfolio].iloc[i,:].sort_values(ascending=True)[:x].index.values.tolist()\n",
    "            portfolio = [t for t in portfolio if t not in bad_stocks]\n",
    "        fill = m - len(portfolio)\n",
    "        new_picks = df.iloc[i,:].sort_values(ascending=False)[:fill].index.values.tolist()\n",
    "        # We avoid to have two time the same stock in the portfolio\n",
    "        new_picks = [t for t in new_picks if t not in portfolio] \n",
    "        portfolio = portfolio + new_picks\n",
    "    monthly_ret_df_long = pd.DataFrame(np.array(monthly_ret_long),columns=[\"mon_ret\"])\n",
    "    return monthly_ret_df_long"
   ]
  },
  {
   "cell_type": "code",
   "execution_count": null,
   "id": "8bfdcf92",
   "metadata": {},
   "outputs": [],
   "source": [
    "# We will short the worst m stocks of the previous month \n",
    "# and rebalance on a monthly basis by removing the best x stocks of the portfolio\n",
    "\n",
    "def pflio_short(DF,m,x):\n",
    "    df = DF.copy()\n",
    "    portfolio = []\n",
    "    monthly_ret_short = [0]\n",
    "    for i in range(1,len(df)):\n",
    "        if len(portfolio) > 0:\n",
    "            monthly_ret_short.append(df[portfolio].iloc[i,:].mean())\n",
    "            bad_stocks = df[portfolio].iloc[i,:].sort_values(ascending=False)[:x].index.values.tolist()\n",
    "            portfolio = [t for t in portfolio if t not in bad_stocks]\n",
    "        fill = m - len(portfolio)\n",
    "        new_picks = df.iloc[i,:].sort_values(ascending=True)[:fill].index.values.tolist()\n",
    "        new_picks = [t for t in new_picks if t not in portfolio]\n",
    "        portfolio = portfolio + new_picks\n",
    "    monthly_ret_df_short = pd.DataFrame(np.array(monthly_ret_short),columns=[\"mon_ret\"])\n",
    "    monthly_ret_df_short = -monthly_ret_df_short\n",
    "    return monthly_ret_df_short"
   ]
  },
  {
   "cell_type": "code",
   "execution_count": null,
   "id": "fccf1c07",
   "metadata": {},
   "outputs": [],
   "source": [
    "# It is the combination of the Long only and Short only strategies \n",
    "# Long 10 stocks and Short 5\n",
    "def pflio_long_short(DF, m, x):\n",
    "        long_short = pd.DataFrame()\n",
    "        long_short = 0.5 * pflio_long(return_df, m, x) + 0.5* (pflio_short(return_df, m-5, x-1))\n",
    "        return long_short"
   ]
  },
  {
   "cell_type": "markdown",
   "id": "60e860b2",
   "metadata": {},
   "source": [
    "### Backtesting strategy on F-F datasets"
   ]
  },
  {
   "cell_type": "code",
   "execution_count": null,
   "id": "7da043e8",
   "metadata": {},
   "outputs": [],
   "source": [
    "#Strategy Long only sector rotational - Using monthly returns and rebalancing to handle better trends and transactions costs\n",
    "strategy1 = pflio_long(df_industries_monthly_returns, 10, 5)\n",
    "strategy1"
   ]
  },
  {
   "cell_type": "code",
   "execution_count": null,
   "id": "b3377cb7",
   "metadata": {},
   "outputs": [],
   "source": [
    "strategyret1 = 1 * (1 + strategy1).cumprod() # Index base = 1\n",
    "strategyret1"
   ]
  },
  {
   "cell_type": "code",
   "execution_count": null,
   "id": "0a12ec10",
   "metadata": {},
   "outputs": [],
   "source": [
    "strategyret1.plot(figsize=(20, 10))\n",
    "plt.title('Strategy 1 Index')"
   ]
  },
  {
   "cell_type": "markdown",
   "id": "3d9c6763",
   "metadata": {},
   "source": [
    "### Strategy 2"
   ]
  },
  {
   "cell_type": "code",
   "execution_count": null,
   "id": "e31c5e65",
   "metadata": {},
   "outputs": [],
   "source": [
    "#Strategy Long only sector rotational - Using monthly returns and rebalancing to handle better trends and transactions costs\n",
    "strategy2 = pflio_long(df_industries_monthly_returns, 15, 5)\n",
    "strategy2"
   ]
  },
  {
   "cell_type": "code",
   "execution_count": null,
   "id": "e86409ac",
   "metadata": {},
   "outputs": [],
   "source": [
    "strategyret2 = 1 * (1 + strategy2).cumprod() # Index base = 1\n",
    "strategyret2"
   ]
  },
  {
   "cell_type": "code",
   "execution_count": null,
   "id": "6175d59b",
   "metadata": {},
   "outputs": [],
   "source": [
    "strategyret2.plot(figsize=(20, 10))\n",
    "plt.title('Strategy 2 Index')"
   ]
  },
  {
   "cell_type": "markdown",
   "id": "9c91bc6c",
   "metadata": {},
   "source": [
    "### Strategy 3 - Changing the start date"
   ]
  },
  {
   "cell_type": "code",
   "execution_count": null,
   "id": "24142e42",
   "metadata": {},
   "outputs": [],
   "source": [
    "start_date = '1995-01-01'\n",
    "end_date = '2022-06-30'"
   ]
  },
  {
   "cell_type": "code",
   "execution_count": null,
   "id": "4ac63b79",
   "metadata": {},
   "outputs": [],
   "source": [
    "df = industries.copy(deep=True)\n",
    "df"
   ]
  },
  {
   "cell_type": "code",
   "execution_count": null,
   "id": "a48fcf3b",
   "metadata": {},
   "outputs": [],
   "source": [
    "df.reset_index(inplace = True)\n",
    "df"
   ]
  },
  {
   "cell_type": "code",
   "execution_count": null,
   "id": "120bb8b1",
   "metadata": {},
   "outputs": [],
   "source": [
    "# Create a mask with conditional dates returning booleans\n",
    "mask = (df['date'] > start_date) & (df['date'] <= end_date)\n",
    "mask"
   ]
  },
  {
   "cell_type": "code",
   "execution_count": null,
   "id": "b018293e",
   "metadata": {},
   "outputs": [],
   "source": [
    "# Using previous mask to get a new dataframe with the right dates\n",
    "dailyreturns_newdates = df.loc[mask]\n",
    "dailyreturns_newdates"
   ]
  },
  {
   "cell_type": "code",
   "execution_count": null,
   "id": "4a2ad77a",
   "metadata": {},
   "outputs": [],
   "source": [
    "dailyreturns_newdates.set_index(\"date\", inplace=True)\n",
    "dailyreturns_newdates"
   ]
  },
  {
   "cell_type": "code",
   "execution_count": null,
   "id": "e75a69e8",
   "metadata": {},
   "outputs": [],
   "source": [
    "# Plot the daily returns based on new dates\n",
    "# Volatility clustering during crisis dates such as dot com bubble, 2008 crisis, sovereign debt crisis and covid\n",
    "fig = px.line(dailyreturns_newdates)\n",
    "fig.show()"
   ]
  },
  {
   "cell_type": "code",
   "execution_count": null,
   "id": "eb130e6f",
   "metadata": {},
   "outputs": [],
   "source": [
    "# Calculate the cumulative daily returns\n",
    "df_cum_daily_returns_industries_newdate = 100*(1 + dailyreturns_newdates).cumprod() # index level start = 100\n",
    "#df_cum_daily_returns = df_cum_daily_returns.reset_index()\n",
    "df_cum_daily_returns_industries_newdate"
   ]
  },
  {
   "cell_type": "code",
   "execution_count": null,
   "id": "dbf4fb20",
   "metadata": {},
   "outputs": [],
   "source": [
    "index_df_cum_daily_returns_industries_newdate = df_cum_daily_returns_industries_newdate\n",
    "fig = px.line(index_df_cum_daily_returns_industries_newdate)\n",
    "fig.show()"
   ]
  },
  {
   "cell_type": "code",
   "execution_count": null,
   "id": "7b812d68",
   "metadata": {},
   "outputs": [],
   "source": [
    "# Aggregation by monthly returns with new dates\n",
    "dailyreturns_newdates.index = pd.to_datetime(dailyreturns_newdates.index)\n",
    "df_industries_monthly_returns_newdate = dailyreturns_newdates.resample('1M').agg(lambda x: (x + 1).prod() - 1)\n",
    "df_industries_monthly_returns_newdate"
   ]
  },
  {
   "cell_type": "code",
   "execution_count": null,
   "id": "773e4674",
   "metadata": {},
   "outputs": [],
   "source": [
    "df_industries_monthly_returns_newdate.describe()"
   ]
  },
  {
   "cell_type": "code",
   "execution_count": null,
   "id": "0f36f589",
   "metadata": {},
   "outputs": [],
   "source": [
    "#Strategy Long only sector rotational - Using monthly returns and rebalancing to handle better trends and transactions costs\n",
    "strategy3 = pflio_long(df_industries_monthly_returns_newdate, 10, 5)\n",
    "strategy3"
   ]
  },
  {
   "cell_type": "code",
   "execution_count": null,
   "id": "e904d2eb",
   "metadata": {},
   "outputs": [],
   "source": [
    "strategyret3 = 100 * (1 + strategy3).cumprod() # Index base = 1\n",
    "strategyret3"
   ]
  },
  {
   "cell_type": "code",
   "execution_count": null,
   "id": "03e997d1",
   "metadata": {},
   "outputs": [],
   "source": [
    "strategyret3.plot(figsize=(20, 10))\n",
    "plt.title('Strategy 3 Index')"
   ]
  },
  {
   "cell_type": "markdown",
   "id": "c5be56f2",
   "metadata": {},
   "source": [
    "### Compare with benchmark : New date for Mkt-rf"
   ]
  },
  {
   "cell_type": "code",
   "execution_count": null,
   "id": "09323354",
   "metadata": {},
   "outputs": [],
   "source": [
    "df_factors_newdate = factors.copy(deep=True)\n",
    "df_factors_newdate"
   ]
  },
  {
   "cell_type": "code",
   "execution_count": null,
   "id": "73395757",
   "metadata": {},
   "outputs": [],
   "source": [
    "df_factors_newdate.reset_index(inplace = True)\n",
    "df_factors_newdate"
   ]
  },
  {
   "cell_type": "code",
   "execution_count": null,
   "id": "ae3d4c8c",
   "metadata": {},
   "outputs": [],
   "source": [
    "mask = (df_factors_newdate['date'] > start_date) & (df_factors_newdate['date'] <= end_date)\n",
    "mask"
   ]
  },
  {
   "cell_type": "code",
   "execution_count": null,
   "id": "2b752f61",
   "metadata": {},
   "outputs": [],
   "source": [
    "ff_dailyreturns_newdates = df_factors_newdate.loc[mask]\n",
    "ff_dailyreturns_newdates"
   ]
  },
  {
   "cell_type": "code",
   "execution_count": null,
   "id": "7abd2abc",
   "metadata": {},
   "outputs": [],
   "source": [
    "ff_dailyreturns_newdates.set_index(\"date\", inplace=True)\n",
    "ff_dailyreturns_newdates"
   ]
  },
  {
   "cell_type": "code",
   "execution_count": null,
   "id": "5cff60c4",
   "metadata": {},
   "outputs": [],
   "source": [
    "fig = px.line(ff_dailyreturns_newdates)\n",
    "fig.show()"
   ]
  },
  {
   "cell_type": "code",
   "execution_count": null,
   "id": "b7709c54",
   "metadata": {},
   "outputs": [],
   "source": [
    "# Calculate the cumulative daily returns\n",
    "df_cum_daily_returns_ff_newdate = 100*(1 + ff_dailyreturns_newdates).cumprod() # index level start = 100\n",
    "#df_cum_daily_returns = df_cum_daily_returns.reset_index()\n",
    "df_cum_daily_returns_ff_newdate\n"
   ]
  },
  {
   "cell_type": "code",
   "execution_count": null,
   "id": "9a84626c",
   "metadata": {},
   "outputs": [],
   "source": [
    "index_df_cum_daily_returns_ff_newdate = df_cum_daily_returns_ff_newdate\n",
    "fig = px.line(index_df_cum_daily_returns_ff_newdate)\n",
    "fig.show()"
   ]
  },
  {
   "cell_type": "code",
   "execution_count": null,
   "id": "9ca7b2e0",
   "metadata": {},
   "outputs": [],
   "source": [
    "ff_dailyreturns_newdates.index = pd.to_datetime(ff_dailyreturns_newdates.index)\n",
    "df_ff_monthly_returns_newdate = ff_dailyreturns_newdates.resample('1M').agg(lambda x: (x + 1).prod() - 1)\n",
    "df_ff_monthly_returns_newdate"
   ]
  },
  {
   "cell_type": "code",
   "execution_count": null,
   "id": "67d035c8",
   "metadata": {},
   "outputs": [],
   "source": [
    "df_ff_monthly_returns_newdate.describe()"
   ]
  },
  {
   "cell_type": "code",
   "execution_count": null,
   "id": "da8c6104",
   "metadata": {},
   "outputs": [],
   "source": [
    "# We use the CAC40 as benchmark\n",
    "start = '1995-01-31'\n",
    "end = '2022-05-31'\n",
    "cac40 = pd.DataFrame()\n",
    "cac40 = yf.download(\"^FCHI\",start,end,interval='1mo')\n",
    "cac40[\"mon_ret\"] = cac40[\"Adj Close\"].pct_change()"
   ]
  },
  {
   "cell_type": "raw",
   "id": "3130bf94",
   "metadata": {},
   "source": [
    "# Calculate the cumulative daily returns\n",
    "df_pflio_long = 100*(1 + pflio_long(DF=industriesmonthly,m = 10, x = 3)).cumprod() # index level start = 100\n",
    "#df_cum_daily_returns = df_cum_daily_returns.reset_index()\n",
    "df_pflio_long"
   ]
  },
  {
   "cell_type": "raw",
   "id": "06ebc281",
   "metadata": {},
   "source": [
    "# Plot industries strategy returns index\n",
    "index_df_pflio_long = df_pflio_long\n",
    "fig = px.line(index_df_pflio_long)\n",
    "fig.show()"
   ]
  },
  {
   "cell_type": "code",
   "execution_count": null,
   "id": "b19ba8cf",
   "metadata": {},
   "outputs": [],
   "source": []
  },
  {
   "cell_type": "markdown",
   "id": "3effa042",
   "metadata": {},
   "source": [
    "### KPI functions"
   ]
  },
  {
   "cell_type": "code",
   "execution_count": null,
   "id": "536dd00a",
   "metadata": {},
   "outputs": [],
   "source": [
    "def CAGR(DF):\n",
    "    # function to calculate the Cumulative Annual Growth Rate of a strategy\n",
    "    df = DF.copy()\n",
    "    df[\"cum_return\"] = (1 + df[\"mon_ret\"]).cumprod()\n",
    "    n = len(df)/12\n",
    "    CAGR = (df[\"cum_return\"].tolist()[-1])**(1/n) - 1\n",
    "    return CAGR"
   ]
  },
  {
   "cell_type": "code",
   "execution_count": null,
   "id": "3cef23d9",
   "metadata": {},
   "outputs": [],
   "source": [
    "def volatility(DF):\n",
    "    # function to calculate annualized volatility of a trading strategy\"\n",
    "    df = DF.copy()\n",
    "    vol = df[\"mon_ret\"].std() * np.sqrt(12)\n",
    "    return vol"
   ]
  },
  {
   "cell_type": "code",
   "execution_count": null,
   "id": "8694f1cc",
   "metadata": {},
   "outputs": [],
   "source": [
    "def sharpe(DF,rf):\n",
    "    # function to calculate sharpe ratio ; rf is the risk free rate\"\n",
    "    df = DF.copy()\n",
    "    sr = (CAGR(df) - rf)/volatility(df)\n",
    "    return sr"
   ]
  },
  {
   "cell_type": "code",
   "execution_count": null,
   "id": "291b9280",
   "metadata": {},
   "outputs": [],
   "source": [
    "def max_dd(DF):\n",
    "    # function to calculate max drawdown\n",
    "    df = DF.copy()\n",
    "    df[\"cum_return\"] = (1 + df[\"mon_ret\"]).cumprod()\n",
    "    df[\"cum_roll_max\"] = df[\"cum_return\"].cummax()\n",
    "    df[\"drawdown\"] = df[\"cum_roll_max\"] - df[\"cum_return\"]\n",
    "    df[\"drawdown_pct\"] = df[\"drawdown\"]/df[\"cum_roll_max\"]\n",
    "    max_dd = df[\"drawdown_pct\"].max()\n",
    "    return max_dd"
   ]
  },
  {
   "cell_type": "markdown",
   "id": "2a0e37d3",
   "metadata": {},
   "source": [
    "### Performance Statistics on full dataset since 1930"
   ]
  },
  {
   "cell_type": "code",
   "execution_count": null,
   "id": "138cdb71",
   "metadata": {},
   "outputs": [],
   "source": [
    "print ('CAGR of Long only strategy = ' + str(round(CAGR(pflio_long(df_industries_monthly_returns, 10, 5))*100, 2)) + '%' )\n",
    "print ('CAGR of CAC40 = ' + str(round(CAGR(cac40)*100, 2)) + '%' )"
   ]
  },
  {
   "cell_type": "code",
   "execution_count": null,
   "id": "bc966c5f",
   "metadata": {},
   "outputs": [],
   "source": [
    "print ('Vol of Long only strategy = ' + str(round(volatility(pflio_long(df_industries_monthly_returns, 10, 5))*100, 2)) + '%' )\n",
    "print ('Vol of CAC40 = ' + str(round(volatility(cac40)*100, 2)) + '%' )"
   ]
  },
  {
   "cell_type": "code",
   "execution_count": null,
   "id": "9066070e",
   "metadata": {},
   "outputs": [],
   "source": [
    "rf = 0.012532\n",
    "print ('Sharpe ratio of Long only strategy = ' + str(round(sharpe(pflio_long(df_industries_monthly_returns, 10, 5), rf), 2))  )\n",
    "print ('Sharpe ratio of CAC40 = ' + str(round(sharpe(cac40, rf), 2)) )"
   ]
  },
  {
   "cell_type": "code",
   "execution_count": null,
   "id": "07a1570d",
   "metadata": {},
   "outputs": [],
   "source": [
    "print ('Max Drawdown of Long only strategy = ' + str(round(max_dd(pflio_long(df_industries_monthly_returns, 10, 5))*100, 2)) + '%')\n",
    "print ('Max Drawdown of CAC40 = ' + str(round(max_dd(cac40)*100, 2)) + '%')"
   ]
  },
  {
   "cell_type": "code",
   "execution_count": null,
   "id": "9dab1a74",
   "metadata": {},
   "outputs": [],
   "source": [
    "#Computation of the matrix of correlation for two decades\n",
    "matrix_correlation = df_industries_monthly_returns.corr()\n",
    "heatmap = sns.heatmap(data= matrix_correlation, annot= False)\n",
    "heatmap"
   ]
  },
  {
   "cell_type": "markdown",
   "id": "be21f6d2",
   "metadata": {},
   "source": [
    "### New date stats performance Statistics \n"
   ]
  },
  {
   "cell_type": "code",
   "execution_count": null,
   "id": "4ccaa6e0",
   "metadata": {},
   "outputs": [],
   "source": [
    "# Using new date\n",
    "print ('CAGR of Long only strategy = ' + str(round(CAGR(pflio_long(df_industries_monthly_returns_newdate, 10, 5))*100, 2)) + '%' )\n",
    "print ('CAGR of CAC40 = ' + str(round(CAGR(cac40)*100, 2)) + '%' )\n",
    "ffretcagr = df_ff_monthly_returns_newdate.copy()\n",
    "ffretcagr[\"cum_return\"] = (1 + ffretcagr[\"Mkt-RF\"]).cumprod()\n",
    "n = len(ffretcagr)/12\n",
    "ffCAGR = (ffretcagr[\"cum_return\"].tolist()[-1])**(1/n) - 1\n",
    "print ('CAGR of Market excess return F-F = ' + str(round(ffCAGR*100, 2)) + '%' )"
   ]
  },
  {
   "cell_type": "code",
   "execution_count": null,
   "id": "93fd4b01",
   "metadata": {},
   "outputs": [],
   "source": [
    "print ('Vol of Long only strategy = ' + str(round(volatility(pflio_long(df_industries_monthly_returns_newdate, 10, 5))*100, 2)) + '%' )\n",
    "print ('Vol of CAC40 = ' + str(round(volatility(cac40)*100, 2)) + '%' )\n",
    "ffvol = df_ff_monthly_returns_newdate.copy()\n",
    "ff_vol = ffvol[\"Mkt-RF\"].std() * np.sqrt(12)\n",
    "print ('Vol of Market excess return F-F = ' + str(round(ff_vol*100, 2)) + '%' )"
   ]
  },
  {
   "cell_type": "code",
   "execution_count": null,
   "id": "06b6e830",
   "metadata": {},
   "outputs": [],
   "source": [
    "rf = 0.00003*100\n",
    "print ('Sharpe ratio of Long only strategy = ' + str(round(sharpe(pflio_long(df_industries_monthly_returns_newdate, 10, 5), rf), 2))  )\n",
    "print ('Sharpe ratio of CAC40 = ' + str(round(sharpe(cac40, rf), 2)) )\n",
    "ffsharpe = df_ff_monthly_returns_newdate.copy()\n",
    "ff_sr = (ffCAGR - rf)/ff_vol\n",
    "print ('Sharpe ratio of Market excess return F-F = ' + str(round(ff_sr, 2)) )"
   ]
  },
  {
   "cell_type": "code",
   "execution_count": null,
   "id": "95d84092",
   "metadata": {},
   "outputs": [],
   "source": [
    "print ('Max Drawdown of Long only strategy = ' + str(round(max_dd(pflio_long(df_industries_monthly_returns_newdate, 10, 5))*100, 2)) + '%')\n",
    "print ('Max Drawdown of CAC40 = ' + str(round(max_dd(cac40)*100, 2)) + '%')\n",
    "ffmdd = df_ff_monthly_returns_newdate.copy()\n",
    "ffmdd[\"cum_return\"] = (1 + ffmdd[\"Mkt-RF\"]).cumprod()\n",
    "ffmdd[\"cum_roll_max\"] = ffmdd[\"cum_return\"].cummax()\n",
    "ffmdd[\"drawdown\"] = ffmdd[\"cum_roll_max\"] - ffmdd[\"cum_return\"]\n",
    "ffmdd[\"drawdown_pct\"] = ffmdd[\"drawdown\"]/ffmdd[\"cum_roll_max\"]\n",
    "max_dd = ffmdd[\"drawdown_pct\"].max()\n",
    "print ('Max Drawdown of Market excess return F-F = ' + str(round(max_dd*100, 2)) + '%')"
   ]
  },
  {
   "cell_type": "code",
   "execution_count": null,
   "id": "109ff995",
   "metadata": {},
   "outputs": [],
   "source": [
    "# Histogram Monthly strategy returns from new dates\n",
    "strategy1.hist(bins = 100)"
   ]
  },
  {
   "cell_type": "code",
   "execution_count": null,
   "id": "ebfefb85",
   "metadata": {},
   "outputs": [],
   "source": [
    "# Histogram Monthly strategy returns from new dates\n",
    "strategy2.hist(bins = 100)"
   ]
  },
  {
   "cell_type": "code",
   "execution_count": null,
   "id": "89bbebe5",
   "metadata": {},
   "outputs": [],
   "source": [
    "# Histogram Monthly strategy returns from new dates\n",
    "strategy3.hist(bins = 100)"
   ]
  },
  {
   "cell_type": "code",
   "execution_count": null,
   "id": "a626ebb6",
   "metadata": {},
   "outputs": [],
   "source": [
    "# Histogram Monthly excess returns from new dates\n",
    "df_ff_monthly_returns_newdate[\"Mkt-RF\"].hist(bins = 100)"
   ]
  },
  {
   "cell_type": "markdown",
   "id": "9c2b49af",
   "metadata": {},
   "source": [
    "### Using PyPortfolioOpt library package for optimisation problem"
   ]
  },
  {
   "cell_type": "code",
   "execution_count": null,
   "id": "3f383efe",
   "metadata": {},
   "outputs": [],
   "source": [
    "# https://pyportfolioopt.readthedocs.io/en/latest/UserGuide.html\n",
    "# Read in price data\n",
    "pd.DataFrame(df_cum_daily_returns_industries_newdate)\n",
    "df_cum_daily_returns_industries_newdate.to_csv('industries_newdate.csv')\n",
    "df = pd.read_csv(\"industries_newdate.csv\", parse_dates=True, index_col=\"date\")\n",
    "\n",
    "# Calculate expected returns and sample covariance\n",
    "mu = expected_returns.mean_historical_return(df)\n",
    "S = risk_models.sample_cov(df, frequency =12)\n",
    "\n",
    "\n",
    "# Optimize for maximal Sharpe ratio\n",
    "ef = EfficientFrontier(mu, S)\n",
    "weights = ef.max_sharpe()\n",
    "ef.portfolio_performance(verbose=True)"
   ]
  },
  {
   "cell_type": "code",
   "execution_count": null,
   "id": "2e24cce9",
   "metadata": {},
   "outputs": [],
   "source": [
    "S"
   ]
  },
  {
   "cell_type": "code",
   "execution_count": null,
   "id": "12d446cc",
   "metadata": {},
   "outputs": [],
   "source": [
    "mu"
   ]
  },
  {
   "cell_type": "code",
   "execution_count": null,
   "id": "70fa1589",
   "metadata": {},
   "outputs": [],
   "source": [
    "weights"
   ]
  },
  {
   "cell_type": "code",
   "execution_count": null,
   "id": "ea2aeb09",
   "metadata": {},
   "outputs": [],
   "source": [
    "plotting.plot_covariance(S, plot_correlation=True);"
   ]
  },
  {
   "cell_type": "code",
   "execution_count": null,
   "id": "512f64b4",
   "metadata": {},
   "outputs": [],
   "source": []
  },
  {
   "cell_type": "code",
   "execution_count": null,
   "id": "8fd852da",
   "metadata": {},
   "outputs": [],
   "source": []
  },
  {
   "cell_type": "markdown",
   "id": "06a0dfd4",
   "metadata": {},
   "source": [
    "### Part 2"
   ]
  },
  {
   "cell_type": "raw",
   "id": "6336b8ef",
   "metadata": {},
   "source": [
    "https://github.com/sstoeckl/crypto2\n",
    "Using this github repository download the oldest 100 tokens\n",
    "coin_hist <- crypto_history(limit=100, finalWait=FALSE)\n",
    "write.csv(coin_hist, \"crypto.csv\")"
   ]
  },
  {
   "cell_type": "code",
   "execution_count": null,
   "id": "b950fefc",
   "metadata": {},
   "outputs": [],
   "source": [
    "crypto = pd.read_csv(\"crypto.csv\", sep=\",\")\n",
    "crypto[\"timestamp\"] = pd.to_datetime(crypto[\"timestamp\"])\n",
    "crypto.set_index(\"timestamp\", inplace=True)\n",
    "crypto"
   ]
  },
  {
   "cell_type": "code",
   "execution_count": null,
   "id": "2aca294a",
   "metadata": {},
   "outputs": [],
   "source": [
    "crypto = pd.read_csv(\"crypto.csv\", sep=\",\", index_col=\"timestamp\",parse_dates=True, usecols=[\"timestamp\", \"name\", \"close\"])\n",
    "crypto\n",
    "#dfSPY = pd.read_csv('data/SPY.csv', index_col=\"Date\", parse_dates=True, usecols=[\"Date\", \"Adj Close\"], na_values=['nan'])"
   ]
  },
  {
   "cell_type": "code",
   "execution_count": null,
   "id": "36515d7c",
   "metadata": {},
   "outputs": [],
   "source": [
    "datacrypto = crypto.reset_index().pivot(\"timestamp\",\"name\",\"close\").reset_index().set_index(\"timestamp\")\n",
    "datacrypto"
   ]
  },
  {
   "cell_type": "code",
   "execution_count": null,
   "id": "0566a7b4",
   "metadata": {},
   "outputs": [],
   "source": [
    "#datacrypto.to_csv(\"datacrypto.csv\")"
   ]
  },
  {
   "cell_type": "code",
   "execution_count": null,
   "id": "4983698b",
   "metadata": {},
   "outputs": [],
   "source": [
    "crypto.reset_index().pivot(\"timestamp\",\"name\",\"close\").reset_index().set_index(\"timestamp\").plot(logy=True)"
   ]
  },
  {
   "cell_type": "code",
   "execution_count": null,
   "id": "fdd4e42c",
   "metadata": {},
   "outputs": [],
   "source": [
    "log_returns_crypto = np.log(datacrypto / datacrypto.shift(1))\n",
    "log_returns_crypto"
   ]
  },
  {
   "cell_type": "code",
   "execution_count": null,
   "id": "43d7dbff",
   "metadata": {},
   "outputs": [],
   "source": [
    "# Replace NaN value by 0, because sometimes all indices are not open (depend of the local public holidays)\n",
    "log_returns_crypto = log_returns_crypto.replace(np.nan, 0)\n",
    "log_returns_crypto"
   ]
  },
  {
   "cell_type": "code",
   "execution_count": null,
   "id": "7bb534b3",
   "metadata": {},
   "outputs": [],
   "source": [
    "#Computation of the matrix of correlation\n",
    "matrix_correlation = log_returns_crypto.corr()\n",
    "sns.heatmap(data= matrix_correlation, annot= True)"
   ]
  },
  {
   "cell_type": "code",
   "execution_count": null,
   "id": "1111eb03",
   "metadata": {},
   "outputs": [],
   "source": [
    "df_ret_crypto = crypto.reset_index().pivot(\"timestamp\",\"name\",\"close\").pct_change().reset_index().set_index(\"timestamp\")\n",
    "df_ret_crypto\n",
    "df_ret_crypto"
   ]
  },
  {
   "cell_type": "code",
   "execution_count": null,
   "id": "615ac9ee",
   "metadata": {},
   "outputs": [],
   "source": [
    "#df_ret_crypto.to_csv(\"df_ret_crypto.csv\")"
   ]
  },
  {
   "cell_type": "code",
   "execution_count": null,
   "id": "6a111efb",
   "metadata": {},
   "outputs": [],
   "source": [
    "df_daily_returns_crypto = df_ret_crypto\n",
    "fig = px.line(df_daily_returns_crypto)\n",
    "fig.show()"
   ]
  },
  {
   "cell_type": "code",
   "execution_count": null,
   "id": "0f6da6fc",
   "metadata": {},
   "outputs": [],
   "source": [
    "# Calculate the cumulative daily returns\n",
    "df_cum_daily_returns_crypto = 100*(1 + df_ret_crypto).cumprod() # index level start = 100\n",
    "#df_cum_daily_returns = df_cum_daily_returns.reset_index()\n",
    "df_cum_daily_returns_crypto"
   ]
  },
  {
   "cell_type": "code",
   "execution_count": null,
   "id": "6050446b",
   "metadata": {},
   "outputs": [],
   "source": [
    "index_df_cum_daily_returns_crypto = df_cum_daily_returns_crypto\n",
    "fig = px.line(index_df_cum_daily_returns_crypto)\n",
    "fig.show()"
   ]
  },
  {
   "cell_type": "code",
   "execution_count": null,
   "id": "6de82a6f",
   "metadata": {},
   "outputs": [],
   "source": [
    "df_cum_daily_returns_crypto.describe()"
   ]
  },
  {
   "cell_type": "code",
   "execution_count": null,
   "id": "ec93687e",
   "metadata": {},
   "outputs": [],
   "source": [
    "unique_arr = crypto[\"name\"].unique()\n",
    "unique_arr"
   ]
  },
  {
   "cell_type": "code",
   "execution_count": null,
   "id": "c7f38684",
   "metadata": {},
   "outputs": [],
   "source": [
    "len(unique_arr)"
   ]
  },
  {
   "cell_type": "code",
   "execution_count": null,
   "id": "689f3283",
   "metadata": {},
   "outputs": [],
   "source": [
    "mask = (crypto[\"name\"] == \"Bitcoin\")\n",
    "mask\n"
   ]
  },
  {
   "cell_type": "code",
   "execution_count": null,
   "id": "1fead418",
   "metadata": {},
   "outputs": [],
   "source": [
    "df = crypto.loc[mask]\n",
    "df"
   ]
  },
  {
   "cell_type": "code",
   "execution_count": null,
   "id": "8e95018f",
   "metadata": {},
   "outputs": [],
   "source": [
    "#Strategy Long only crypto rotational - Using monthly returns and rebalancing to handle better trends and transactions costs\n",
    "cryptolongptf1 = pflio_long(df_industries_monthly_returns, 10, 5)\n",
    "cryptolongptf1"
   ]
  },
  {
   "cell_type": "code",
   "execution_count": null,
   "id": "b29f3344",
   "metadata": {},
   "outputs": [],
   "source": []
  },
  {
   "cell_type": "code",
   "execution_count": null,
   "id": "03c22c53",
   "metadata": {},
   "outputs": [],
   "source": [
    "# Histogram Monthly strategy returns from new dates\n",
    "df_ret_crypto[\"Bitcoin\"].hist(bins = 100)"
   ]
  },
  {
   "cell_type": "code",
   "execution_count": null,
   "id": "f26a3a99",
   "metadata": {},
   "outputs": [],
   "source": [
    "# Histogram Monthly strategy returns from new dates\n",
    "df_ret_crypto[\"XRP\"].hist(bins = 100)"
   ]
  },
  {
   "cell_type": "markdown",
   "id": "407ff2eb",
   "metadata": {},
   "source": [
    "### Marketcap and Volume"
   ]
  },
  {
   "cell_type": "code",
   "execution_count": null,
   "id": "6b751974",
   "metadata": {},
   "outputs": [],
   "source": [
    "volume = pd.read_csv(\"crypto.csv\", sep=\",\", index_col=\"timestamp\",parse_dates=True, usecols=[\"timestamp\", \"name\", \"volume\"])\n",
    "volume"
   ]
  },
  {
   "cell_type": "code",
   "execution_count": null,
   "id": "6c39f6ae",
   "metadata": {},
   "outputs": [],
   "source": [
    "market_cap = pd.read_csv(\"crypto.csv\", sep=\",\", index_col=\"timestamp\",parse_dates=True, usecols=[\"timestamp\", \"name\", \"market_cap\"])\n",
    "market_cap"
   ]
  },
  {
   "cell_type": "code",
   "execution_count": null,
   "id": "a5ae33bd",
   "metadata": {},
   "outputs": [],
   "source": [
    "volume.reset_index().pivot(\"timestamp\",\"name\",\"volume\").reset_index().set_index(\"timestamp\").plot(logy=True)"
   ]
  },
  {
   "cell_type": "code",
   "execution_count": null,
   "id": "800b96ff",
   "metadata": {},
   "outputs": [],
   "source": [
    "market_cap.reset_index().pivot(\"timestamp\",\"name\",\"market_cap\").reset_index().set_index(\"timestamp\").plot(logy=True)"
   ]
  },
  {
   "cell_type": "code",
   "execution_count": null,
   "id": "457200c0",
   "metadata": {},
   "outputs": [],
   "source": [
    "df_ret_crypto_volume = volume.reset_index().pivot(\"timestamp\",\"name\",\"volume\").pct_change().reset_index().set_index(\"timestamp\")\n",
    "df_ret_crypto_volume"
   ]
  },
  {
   "cell_type": "code",
   "execution_count": null,
   "id": "255d9311",
   "metadata": {},
   "outputs": [],
   "source": [
    "df_ret_crypto_market_cap = market_cap.reset_index().pivot(\"timestamp\",\"name\",\"market_cap\").pct_change().reset_index().set_index(\"timestamp\")\n",
    "df_ret_crypto_market_cap"
   ]
  },
  {
   "cell_type": "code",
   "execution_count": null,
   "id": "87c483b8",
   "metadata": {},
   "outputs": [],
   "source": [
    "df_ret_crypto_volume.describe()"
   ]
  },
  {
   "cell_type": "code",
   "execution_count": null,
   "id": "2614c373",
   "metadata": {},
   "outputs": [],
   "source": [
    "df_ret_crypto_market_cap.describe()"
   ]
  },
  {
   "cell_type": "code",
   "execution_count": null,
   "id": "fb7ca4c4",
   "metadata": {},
   "outputs": [],
   "source": [
    "# Histogram Monthly strategy returns from new dates\n",
    "df_ret_crypto_market_cap[\"Bitcoin\"].hist(bins = 100)"
   ]
  },
  {
   "cell_type": "code",
   "execution_count": null,
   "id": "022d386a",
   "metadata": {},
   "outputs": [],
   "source": [
    "# Histogram daily strategy returns from new dates\n",
    "df_ret_crypto_market_cap[\"XRP\"].hist(bins = 100)"
   ]
  },
  {
   "cell_type": "code",
   "execution_count": null,
   "id": "bc1af1c5",
   "metadata": {},
   "outputs": [],
   "source": []
  }
 ],
 "metadata": {
  "kernelspec": {
   "display_name": "Python 3",
   "language": "python",
   "name": "python3"
  },
  "language_info": {
   "codemirror_mode": {
    "name": "ipython",
    "version": 3
   },
   "file_extension": ".py",
   "mimetype": "text/x-python",
   "name": "python",
   "nbconvert_exporter": "python",
   "pygments_lexer": "ipython3",
   "version": "3.8.8"
  }
 },
 "nbformat": 4,
 "nbformat_minor": 5
}
